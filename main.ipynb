{
 "cells": [
  {
   "cell_type": "code",
   "execution_count": 1,
   "metadata": {},
   "outputs": [],
   "source": [
    "import pickle"
   ]
  },
  {
   "cell_type": "code",
   "execution_count": 2,
   "metadata": {},
   "outputs": [],
   "source": [
    "path = \"/home/aiotlab/ducntm/DeYO/pretrained/ColoredMNIST_model.pickle\""
   ]
  },
  {
   "cell_type": "code",
   "execution_count": 6,
   "metadata": {},
   "outputs": [
    {
     "name": "stderr",
     "output_type": "stream",
     "text": [
      "/home/aiotlab/ducntm/ducntm/lib/python3.8/site-packages/tqdm/auto.py:21: TqdmWarning: IProgress not found. Please update jupyter and ipywidgets. See https://ipywidgets.readthedocs.io/en/stable/user_install.html\n",
      "  from .autonotebook import tqdm as notebook_tqdm\n"
     ]
    }
   ],
   "source": [
    "with open(path, \"rb\") as f:\n",
    "    net = pickle.load(f)"
   ]
  },
  {
   "cell_type": "code",
   "execution_count": 7,
   "metadata": {},
   "outputs": [
    {
     "data": {
      "text/plain": [
       "ResNet(\n",
       "  (conv1): Conv2d(3, 64, kernel_size=(7, 7), stride=(2, 2), padding=(3, 3), bias=False)\n",
       "  (bn1): BatchNorm2d(64, eps=1e-05, momentum=0.1, affine=True, track_running_stats=True)\n",
       "  (relu): ReLU(inplace=True)\n",
       "  (maxpool): MaxPool2d(kernel_size=3, stride=2, padding=1, dilation=1, ceil_mode=False)\n",
       "  (layer1): Sequential(\n",
       "    (0): BasicBlock(\n",
       "      (conv1): Conv2d(64, 64, kernel_size=(3, 3), stride=(1, 1), padding=(1, 1), bias=False)\n",
       "      (bn1): BatchNorm2d(64, eps=1e-05, momentum=0.1, affine=True, track_running_stats=True)\n",
       "      (relu): ReLU(inplace=True)\n",
       "      (conv2): Conv2d(64, 64, kernel_size=(3, 3), stride=(1, 1), padding=(1, 1), bias=False)\n",
       "      (bn2): BatchNorm2d(64, eps=1e-05, momentum=0.1, affine=True, track_running_stats=True)\n",
       "    )\n",
       "    (1): BasicBlock(\n",
       "      (conv1): Conv2d(64, 64, kernel_size=(3, 3), stride=(1, 1), padding=(1, 1), bias=False)\n",
       "      (bn1): BatchNorm2d(64, eps=1e-05, momentum=0.1, affine=True, track_running_stats=True)\n",
       "      (relu): ReLU(inplace=True)\n",
       "      (conv2): Conv2d(64, 64, kernel_size=(3, 3), stride=(1, 1), padding=(1, 1), bias=False)\n",
       "      (bn2): BatchNorm2d(64, eps=1e-05, momentum=0.1, affine=True, track_running_stats=True)\n",
       "    )\n",
       "  )\n",
       "  (layer2): Sequential(\n",
       "    (0): BasicBlock(\n",
       "      (conv1): Conv2d(64, 128, kernel_size=(3, 3), stride=(2, 2), padding=(1, 1), bias=False)\n",
       "      (bn1): BatchNorm2d(128, eps=1e-05, momentum=0.1, affine=True, track_running_stats=True)\n",
       "      (relu): ReLU(inplace=True)\n",
       "      (conv2): Conv2d(128, 128, kernel_size=(3, 3), stride=(1, 1), padding=(1, 1), bias=False)\n",
       "      (bn2): BatchNorm2d(128, eps=1e-05, momentum=0.1, affine=True, track_running_stats=True)\n",
       "      (downsample): Sequential(\n",
       "        (0): Conv2d(64, 128, kernel_size=(1, 1), stride=(2, 2), bias=False)\n",
       "        (1): BatchNorm2d(128, eps=1e-05, momentum=0.1, affine=True, track_running_stats=True)\n",
       "      )\n",
       "    )\n",
       "    (1): BasicBlock(\n",
       "      (conv1): Conv2d(128, 128, kernel_size=(3, 3), stride=(1, 1), padding=(1, 1), bias=False)\n",
       "      (bn1): BatchNorm2d(128, eps=1e-05, momentum=0.1, affine=True, track_running_stats=True)\n",
       "      (relu): ReLU(inplace=True)\n",
       "      (conv2): Conv2d(128, 128, kernel_size=(3, 3), stride=(1, 1), padding=(1, 1), bias=False)\n",
       "      (bn2): BatchNorm2d(128, eps=1e-05, momentum=0.1, affine=True, track_running_stats=True)\n",
       "    )\n",
       "  )\n",
       "  (layer3): Sequential(\n",
       "    (0): BasicBlock(\n",
       "      (conv1): Conv2d(128, 256, kernel_size=(3, 3), stride=(2, 2), padding=(1, 1), bias=False)\n",
       "      (bn1): BatchNorm2d(256, eps=1e-05, momentum=0.1, affine=True, track_running_stats=True)\n",
       "      (relu): ReLU(inplace=True)\n",
       "      (conv2): Conv2d(256, 256, kernel_size=(3, 3), stride=(1, 1), padding=(1, 1), bias=False)\n",
       "      (bn2): BatchNorm2d(256, eps=1e-05, momentum=0.1, affine=True, track_running_stats=True)\n",
       "      (downsample): Sequential(\n",
       "        (0): Conv2d(128, 256, kernel_size=(1, 1), stride=(2, 2), bias=False)\n",
       "        (1): BatchNorm2d(256, eps=1e-05, momentum=0.1, affine=True, track_running_stats=True)\n",
       "      )\n",
       "    )\n",
       "    (1): BasicBlock(\n",
       "      (conv1): Conv2d(256, 256, kernel_size=(3, 3), stride=(1, 1), padding=(1, 1), bias=False)\n",
       "      (bn1): BatchNorm2d(256, eps=1e-05, momentum=0.1, affine=True, track_running_stats=True)\n",
       "      (relu): ReLU(inplace=True)\n",
       "      (conv2): Conv2d(256, 256, kernel_size=(3, 3), stride=(1, 1), padding=(1, 1), bias=False)\n",
       "      (bn2): BatchNorm2d(256, eps=1e-05, momentum=0.1, affine=True, track_running_stats=True)\n",
       "    )\n",
       "  )\n",
       "  (layer4): Sequential(\n",
       "    (0): BasicBlock(\n",
       "      (conv1): Conv2d(256, 512, kernel_size=(3, 3), stride=(2, 2), padding=(1, 1), bias=False)\n",
       "      (bn1): BatchNorm2d(512, eps=1e-05, momentum=0.1, affine=True, track_running_stats=True)\n",
       "      (relu): ReLU(inplace=True)\n",
       "      (conv2): Conv2d(512, 512, kernel_size=(3, 3), stride=(1, 1), padding=(1, 1), bias=False)\n",
       "      (bn2): BatchNorm2d(512, eps=1e-05, momentum=0.1, affine=True, track_running_stats=True)\n",
       "      (downsample): Sequential(\n",
       "        (0): Conv2d(256, 512, kernel_size=(1, 1), stride=(2, 2), bias=False)\n",
       "        (1): BatchNorm2d(512, eps=1e-05, momentum=0.1, affine=True, track_running_stats=True)\n",
       "      )\n",
       "    )\n",
       "    (1): BasicBlock(\n",
       "      (conv1): Conv2d(512, 512, kernel_size=(3, 3), stride=(1, 1), padding=(1, 1), bias=False)\n",
       "      (bn1): BatchNorm2d(512, eps=1e-05, momentum=0.1, affine=True, track_running_stats=True)\n",
       "      (relu): ReLU(inplace=True)\n",
       "      (conv2): Conv2d(512, 512, kernel_size=(3, 3), stride=(1, 1), padding=(1, 1), bias=False)\n",
       "      (bn2): BatchNorm2d(512, eps=1e-05, momentum=0.1, affine=True, track_running_stats=True)\n",
       "    )\n",
       "  )\n",
       "  (avgpool): AdaptiveAvgPool2d(output_size=(1, 1))\n",
       "  (fc): Linear(in_features=512, out_features=2, bias=True)\n",
       ")"
      ]
     },
     "execution_count": 7,
     "metadata": {},
     "output_type": "execute_result"
    }
   ],
   "source": [
    "net"
   ]
  },
  {
   "cell_type": "code",
   "execution_count": 8,
   "metadata": {},
   "outputs": [
    {
     "name": "stdout",
     "output_type": "stream",
     "text": [
      "conv1.weight: requires_grad=True\n",
      "bn1.weight: requires_grad=True\n",
      "bn1.bias: requires_grad=True\n",
      "layer1.0.conv1.weight: requires_grad=True\n",
      "layer1.0.bn1.weight: requires_grad=True\n",
      "layer1.0.bn1.bias: requires_grad=True\n",
      "layer1.0.conv2.weight: requires_grad=True\n",
      "layer1.0.bn2.weight: requires_grad=True\n",
      "layer1.0.bn2.bias: requires_grad=True\n",
      "layer1.1.conv1.weight: requires_grad=True\n",
      "layer1.1.bn1.weight: requires_grad=True\n",
      "layer1.1.bn1.bias: requires_grad=True\n",
      "layer1.1.conv2.weight: requires_grad=True\n",
      "layer1.1.bn2.weight: requires_grad=True\n",
      "layer1.1.bn2.bias: requires_grad=True\n",
      "layer2.0.conv1.weight: requires_grad=True\n",
      "layer2.0.bn1.weight: requires_grad=True\n",
      "layer2.0.bn1.bias: requires_grad=True\n",
      "layer2.0.conv2.weight: requires_grad=True\n",
      "layer2.0.bn2.weight: requires_grad=True\n",
      "layer2.0.bn2.bias: requires_grad=True\n",
      "layer2.0.downsample.0.weight: requires_grad=True\n",
      "layer2.0.downsample.1.weight: requires_grad=True\n",
      "layer2.0.downsample.1.bias: requires_grad=True\n",
      "layer2.1.conv1.weight: requires_grad=True\n",
      "layer2.1.bn1.weight: requires_grad=True\n",
      "layer2.1.bn1.bias: requires_grad=True\n",
      "layer2.1.conv2.weight: requires_grad=True\n",
      "layer2.1.bn2.weight: requires_grad=True\n",
      "layer2.1.bn2.bias: requires_grad=True\n",
      "layer3.0.conv1.weight: requires_grad=True\n",
      "layer3.0.bn1.weight: requires_grad=True\n",
      "layer3.0.bn1.bias: requires_grad=True\n",
      "layer3.0.conv2.weight: requires_grad=True\n",
      "layer3.0.bn2.weight: requires_grad=True\n",
      "layer3.0.bn2.bias: requires_grad=True\n",
      "layer3.0.downsample.0.weight: requires_grad=True\n",
      "layer3.0.downsample.1.weight: requires_grad=True\n",
      "layer3.0.downsample.1.bias: requires_grad=True\n",
      "layer3.1.conv1.weight: requires_grad=True\n",
      "layer3.1.bn1.weight: requires_grad=True\n",
      "layer3.1.bn1.bias: requires_grad=True\n",
      "layer3.1.conv2.weight: requires_grad=True\n",
      "layer3.1.bn2.weight: requires_grad=True\n",
      "layer3.1.bn2.bias: requires_grad=True\n",
      "layer4.0.conv1.weight: requires_grad=True\n",
      "layer4.0.bn1.weight: requires_grad=True\n",
      "layer4.0.bn1.bias: requires_grad=True\n",
      "layer4.0.conv2.weight: requires_grad=True\n",
      "layer4.0.bn2.weight: requires_grad=True\n",
      "layer4.0.bn2.bias: requires_grad=True\n",
      "layer4.0.downsample.0.weight: requires_grad=True\n",
      "layer4.0.downsample.1.weight: requires_grad=True\n",
      "layer4.0.downsample.1.bias: requires_grad=True\n",
      "layer4.1.conv1.weight: requires_grad=True\n",
      "layer4.1.bn1.weight: requires_grad=True\n",
      "layer4.1.bn1.bias: requires_grad=True\n",
      "layer4.1.conv2.weight: requires_grad=True\n",
      "layer4.1.bn2.weight: requires_grad=True\n",
      "layer4.1.bn2.bias: requires_grad=True\n",
      "fc.weight: requires_grad=True\n",
      "fc.bias: requires_grad=True\n"
     ]
    }
   ],
   "source": [
    "for name, param in net.named_parameters():\n",
    "    print(f\"{name}: requires_grad={param.requires_grad}\")"
   ]
  },
  {
   "cell_type": "code",
   "execution_count": null,
   "metadata": {},
   "outputs": [],
   "source": []
  }
 ],
 "metadata": {
  "language_info": {
   "name": "python"
  }
 },
 "nbformat": 4,
 "nbformat_minor": 2
}
